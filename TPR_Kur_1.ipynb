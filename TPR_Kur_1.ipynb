{
 "cells": [
  {
   "cell_type": "markdown",
   "metadata": {},
   "source": [
    "## Задача 1\n",
    "###  Условие задачи\n",
    "\n",
    "В цехах N1 и N2 предприятия производится продукт Y, который в дальнейшем используется\n",
    "в качестве исходного материала для производства изделий в цехе N3. Суммарная производительность цехов N1 и N2 зависит от вложения дополнительных средств X. При работе цехов N1 и N2 в течение одного месяца эта зависимость может быть приближенно представлена в виде функций:  \n",
    "* $N1: y = 5+(x+40)^{2/3};$\n",
    "* $N2: y = 7+(x+30)^{1/2};$  \n",
    "Функции остатка средств в течение месяца: \n",
    "* $N1: 0.7x;$\n",
    "* $N2: 0.94x;$  \n",
    "Средства, выделяемые на оба цеха в течение квартала (3 месяца), составляют 174 единиц; перераспределение производится помесячно.  \n",
    " Требуется распределить средства на планируемый квартал с целью получения максимального количества продукта Y.\n",
    " \n",
    " \n",
    "### Решение\n",
    "Средства, выделяемые на оба цеха в течение квартала (3 месяца), составляют 174 единиц.    \n",
    "Перераспределение средств помесячное, поэтому задачу можно разбить на 3 этапа.  \n",
    "Обозначим главное понятия динамического программирования:  \n",
    "Выигрыш - максимум произведенных продуктов на обеих цехах N1 и N2.  \n",
    "Управление - принятие решения по распределению средств.  \n",
    "Состояние - остаток средств от обеих цехов.  \n",
    "$ a_{k} = x_{1k}+x_{2k} - остаток средств на производном шаге, z_{k} - суммарное производство N1+N2$  \n",
    "Для рассчётов использую python 3.7, код:  \n"
   ]
  },
  {
   "cell_type": "code",
   "execution_count": 23,
   "metadata": {},
   "outputs": [
    {
     "name": "stdout",
     "output_type": "stream",
     "text": [
      "Period: \n",
      "1\n",
      "Investing in first: \n",
      "143\n",
      "Investing in second: \n",
      "31\n",
      "Period: \n",
      "2\n",
      "Investing in first: \n",
      "127\n",
      "Investing in second: \n",
      "2\n",
      "Period: \n",
      "3\n",
      "Investing in first: \n",
      "90\n",
      "Investing in second: \n",
      "1\n",
      "Total win: \n",
      "143\n"
     ]
    }
   ],
   "source": [
    "#-*-coding: utf-8-*-\n",
    "\"\"\"import mathplot.pyplot as plt\"\"\"\n",
    "\"\"\"import operator\"\"\"\n",
    "iteration = 0;\n",
    "start_funds = 174;\n",
    "# Призводительность цеха 1\n",
    "def workshop1_perf(x):\n",
    "    return (5+(x+40)**(2/3))\n",
    "# Призводительность цеха 2\n",
    "def workshop2_perf(x):\n",
    "    return (7+(x+30)**(1/2))\n",
    "# Общая производительность за месяц\n",
    "def full_perf(funds, x):\n",
    "    return (workshop1_perf(x)+workshop2_perf(funds-x))\n",
    "# Остаток производства за месяц\n",
    "def rest(funds,x):\n",
    "    return (0.7*x+0.94*(funds-x))\n",
    "# Главная функция \n",
    "def magic (funds):\n",
    "    global iteration;\n",
    "    global best_x;\n",
    "    iteration += 1;\n",
    "    x_list = [i for i in range (int(funds))];\n",
    "    if (iteration<3):\n",
    "        next_results_list=[full_perf(funds,i)+magic(rest(funds,i)) for i in x_list];\n",
    "    else:\n",
    "        next_results_list = [full_perf(funds,i) for i in x_list];\n",
    "    best_result=max(next_results_list);\n",
    "    iteration -= 1;\n",
    "    best_x =next_results_list.index(best_result);\n",
    "    return best_result;\n",
    "for i in range(3):\n",
    "    result =magic(start_funds);\n",
    "    if(iteration==0):\n",
    "           fullresult=int(result);\n",
    "    iteration+=1;\n",
    "    print(\"Period: \");\n",
    "    print(iteration);\n",
    "    print(\"Investing in first: \");\n",
    "    print(best_x);\n",
    "    print(\"Investing in second: \");\n",
    "    print(int(start_funds - best_x));\n",
    "                \n",
    "    start_funds=rest(start_funds,best_x);\n",
    "print(\"Total win: \");\n",
    "print(fullresult);"
   ]
  },
  {
   "cell_type": "markdown",
   "metadata": {},
   "source": [
    "Оптимальный план будет иметь вид:  \n",
    "\n",
    "| Месяц                               | 1   | 2   | 3  |\n",
    "|-------------------------------------|-----|-----|----|\n",
    "| Средства, выделяемые на первом цехе | 143 | 127 | 90 |\n",
    "| Средства, выделяемые на втором цехе | 31  | 2   | 1  | \n",
    "\n",
    "Общее количество продукта будет 143 единицы.\n"
   ]
  },
  {
   "cell_type": "code",
   "execution_count": null,
   "metadata": {},
   "outputs": [],
   "source": []
  }
 ],
 "metadata": {
  "kernelspec": {
   "display_name": "Python 3",
   "language": "python",
   "name": "python3"
  },
  "language_info": {
   "codemirror_mode": {
    "name": "ipython",
    "version": 3
   },
   "file_extension": ".py",
   "mimetype": "text/x-python",
   "name": "python",
   "nbconvert_exporter": "python",
   "pygments_lexer": "ipython3",
   "version": "3.7.1"
  }
 },
 "nbformat": 4,
 "nbformat_minor": 2
}
